{
 "cells": [
  {
   "cell_type": "code",
   "execution_count": 1,
   "metadata": {},
   "outputs": [],
   "source": [
    "def add(n1,n2):\n",
    "    print(n1+n2)"
   ]
  },
  {
   "cell_type": "code",
   "execution_count": 2,
   "metadata": {},
   "outputs": [
    {
     "name": "stdout",
     "output_type": "stream",
     "text": [
      "30\n"
     ]
    }
   ],
   "source": [
    "add(10,20)"
   ]
  },
  {
   "cell_type": "code",
   "execution_count": 3,
   "metadata": {},
   "outputs": [
    {
     "name": "stdout",
     "output_type": "stream",
     "text": [
      "please a num: 20\n"
     ]
    }
   ],
   "source": [
    "number1 = 10\n",
    "number2 = input(\"please a num: \")"
   ]
  },
  {
   "cell_type": "code",
   "execution_count": 5,
   "metadata": {},
   "outputs": [
    {
     "ename": "TypeError",
     "evalue": "unsupported operand type(s) for +: 'int' and 'str'",
     "output_type": "error",
     "traceback": [
      "\u001b[1;31m---------------------------------------------------------------------------\u001b[0m",
      "\u001b[1;31mTypeError\u001b[0m                                 Traceback (most recent call last)",
      "\u001b[1;32m<ipython-input-5-fdc251fbd564>\u001b[0m in \u001b[0;36m<module>\u001b[1;34m\u001b[0m\n\u001b[1;32m----> 1\u001b[1;33m \u001b[0madd\u001b[0m\u001b[1;33m(\u001b[0m\u001b[0mnumber1\u001b[0m\u001b[1;33m,\u001b[0m\u001b[0mnumber2\u001b[0m\u001b[1;33m)\u001b[0m\u001b[1;33m\u001b[0m\u001b[1;33m\u001b[0m\u001b[0m\n\u001b[0m\u001b[0;32m      2\u001b[0m \u001b[0mprint\u001b[0m\u001b[1;33m(\u001b[0m\u001b[1;34m\"somethimg happen\"\u001b[0m\u001b[1;33m)\u001b[0m\u001b[1;33m\u001b[0m\u001b[1;33m\u001b[0m\u001b[0m\n",
      "\u001b[1;32m<ipython-input-1-48bddae7e371>\u001b[0m in \u001b[0;36madd\u001b[1;34m(n1, n2)\u001b[0m\n\u001b[0;32m      1\u001b[0m \u001b[1;32mdef\u001b[0m \u001b[0madd\u001b[0m\u001b[1;33m(\u001b[0m\u001b[0mn1\u001b[0m\u001b[1;33m,\u001b[0m\u001b[0mn2\u001b[0m\u001b[1;33m)\u001b[0m\u001b[1;33m:\u001b[0m\u001b[1;33m\u001b[0m\u001b[1;33m\u001b[0m\u001b[0m\n\u001b[1;32m----> 2\u001b[1;33m     \u001b[0mprint\u001b[0m\u001b[1;33m(\u001b[0m\u001b[0mn1\u001b[0m\u001b[1;33m+\u001b[0m\u001b[0mn2\u001b[0m\u001b[1;33m)\u001b[0m\u001b[1;33m\u001b[0m\u001b[1;33m\u001b[0m\u001b[0m\n\u001b[0m",
      "\u001b[1;31mTypeError\u001b[0m: unsupported operand type(s) for +: 'int' and 'str'"
     ]
    }
   ],
   "source": [
    "add(number1,number2)\n",
    "print(\"somethimg happen\")"
   ]
  },
  {
   "cell_type": "code",
   "execution_count": 21,
   "metadata": {},
   "outputs": [
    {
     "name": "stdout",
     "output_type": "stream",
     "text": [
      "add went well\n",
      "20\n"
     ]
    }
   ],
   "source": [
    "try:\n",
    "    #want attempt this code\n",
    "    #may have an error\n",
    "    result = 10 + 10\n",
    "except:\n",
    "    print(\"hey aren not adding\")\n",
    "else:\n",
    "    print(\"add went well\")\n",
    "    print(result)"
   ]
  },
  {
   "cell_type": "code",
   "execution_count": 22,
   "metadata": {},
   "outputs": [
    {
     "name": "stdout",
     "output_type": "stream",
     "text": [
      "always running\n"
     ]
    }
   ],
   "source": [
    "try:\n",
    "    f = open('testfile','w')\n",
    "    f.write(\"write a test fie\")\n",
    "except TypeError:\n",
    "    print(\"there was a type error\")\n",
    "except OSError:\n",
    "    print(\"hey osse error\")\n",
    "except:\n",
    "    print(\"all other errors\")\n",
    "finally:\n",
    "    print(\"always running\")"
   ]
  },
  {
   "cell_type": "code",
   "execution_count": 23,
   "metadata": {},
   "outputs": [],
   "source": [
    "def ask_for_int():\n",
    "    while True:\n",
    "        try:\n",
    "            result = int(input(\"please a number\"))\n",
    "        except:\n",
    "            print(\"whoops that is not a number\")\n",
    "            continue\n",
    "        else:\n",
    "            print(\"yes thank you\")\n",
    "            break\n",
    "        finally:\n",
    "            print(\"end of try/except\")\n",
    "            print(\"always running\")"
   ]
  },
  {
   "cell_type": "code",
   "execution_count": 24,
   "metadata": {},
   "outputs": [
    {
     "name": "stdout",
     "output_type": "stream",
     "text": [
      "please a number45\n",
      "yes thank you\n",
      "end of try/except\n",
      "always running\n"
     ]
    }
   ],
   "source": [
    "ask_for_int()"
   ]
  },
  {
   "cell_type": "code",
   "execution_count": 25,
   "metadata": {},
   "outputs": [
    {
     "name": "stdout",
     "output_type": "stream",
     "text": [
      "i not be string\n"
     ]
    }
   ],
   "source": [
    "try:\n",
    "    for i in ['a','b','c']:\n",
    "        print(i**2)\n",
    "except:\n",
    "    print(\"i not be string\")"
   ]
  },
  {
   "cell_type": "code",
   "execution_count": 26,
   "metadata": {},
   "outputs": [
    {
     "name": "stdout",
     "output_type": "stream",
     "text": [
      "zero not be divided\n",
      "all done\n"
     ]
    }
   ],
   "source": [
    "try:\n",
    "    x = 5\n",
    "    y = 0\n",
    "    z = x/y\n",
    "except ZeroDivisionError:\n",
    "    print(\"zero not be divided\")\n",
    "finally:\n",
    "    print(\"all done\")"
   ]
  },
  {
   "cell_type": "code",
   "execution_count": 4,
   "metadata": {},
   "outputs": [],
   "source": [
    "def ask():\n",
    "    while True:\n",
    "        try:\n",
    "            number = int(input(\"please a number\"))\n",
    "        except:\n",
    "            print(\"1an error occured please try again!\")\n",
    "            continue\n",
    "        else:\n",
    "            print(\"thank you your number is: {0}\".format(number))\n",
    "            break"
   ]
  },
  {
   "cell_type": "code",
   "execution_count": 5,
   "metadata": {},
   "outputs": [
    {
     "name": "stdout",
     "output_type": "stream",
     "text": [
      "please a number45\n",
      "thank you your number is: 45\n"
     ]
    }
   ],
   "source": [
    "ask()"
   ]
  },
  {
   "cell_type": "code",
   "execution_count": null,
   "metadata": {},
   "outputs": [],
   "source": []
  }
 ],
 "metadata": {
  "kernelspec": {
   "display_name": "Python 3",
   "language": "python",
   "name": "python3"
  }
 },
 "nbformat": 4,
 "nbformat_minor": 4
}
