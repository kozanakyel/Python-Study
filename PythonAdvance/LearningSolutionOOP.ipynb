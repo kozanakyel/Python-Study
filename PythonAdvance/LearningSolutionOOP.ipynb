{
 "cells": [
  {
   "cell_type": "code",
   "execution_count": 1,
   "metadata": {},
   "outputs": [],
   "source": [
    "class Adder:\n",
    "    def add(self,x,y):\n",
    "        print('not implemented yet')\n",
    "    def __init__(self, start=[]):\n",
    "        self.data = start\n",
    "    def __add__(self,other):\n",
    "        return self.add(self.data, other)\n",
    "class ListAdder(Adder):\n",
    "    def add(self,x,y):\n",
    "        return x+y\n",
    "class DictAdder(Adder):\n",
    "    def add(self,x,y):\n",
    "        new = {}\n",
    "        for k in x.keys(): new[k] = x[k]\n",
    "        for k in y.keys(): new[k] = y[k]\n",
    "        return new\n",
    "    "
   ]
  },
  {
   "cell_type": "code",
   "execution_count": 2,
   "metadata": {},
   "outputs": [
    {
     "name": "stdout",
     "output_type": "stream",
     "text": [
      "not implemented yet\n"
     ]
    }
   ],
   "source": [
    "x = Adder()\n",
    "x.add(1,2)"
   ]
  },
  {
   "cell_type": "code",
   "execution_count": 3,
   "metadata": {},
   "outputs": [
    {
     "data": {
      "text/plain": [
       "[1, 2]"
      ]
     },
     "execution_count": 3,
     "metadata": {},
     "output_type": "execute_result"
    }
   ],
   "source": [
    "x = ListAdder()\n",
    "x.add([1],[2])"
   ]
  },
  {
   "cell_type": "code",
   "execution_count": 4,
   "metadata": {},
   "outputs": [
    {
     "data": {
      "text/plain": [
       "{1: 1, 2: 2}"
      ]
     },
     "execution_count": 4,
     "metadata": {},
     "output_type": "execute_result"
    }
   ],
   "source": [
    "x = DictAdder()\n",
    "x.add({1:1},{2:2})"
   ]
  },
  {
   "cell_type": "code",
   "execution_count": 9,
   "metadata": {},
   "outputs": [],
   "source": [
    "class MyList():\n",
    "    def __init__(self,start):\n",
    "        self.wrapped = []\n",
    "        for x in start: \n",
    "            self.wrapped.append(x)\n",
    "    def __add__(self,other):\n",
    "        return MyList(self.wrapped + other)\n",
    "    def __mul__(self,time):\n",
    "        return MyList(self.wrapped * time)\n",
    "    def __getitem__(self,offset):\n",
    "        return self.wrapped[offset]\n",
    "    def __len__(self):\n",
    "        return len(self.wrapped)\n",
    "    def __getslice__(self,low,high):\n",
    "        return MyList(self.wrapped[low:high])\n",
    "    def append(self,node):\n",
    "        self.wrapped.append(node)\n",
    "    def __getattr__(self,name):\n",
    "        return getattr(self.wrapped,name)\n",
    "    def __repr__(self):\n",
    "        return repr(self.wrapped)\n"
   ]
  },
  {
   "cell_type": "code",
   "execution_count": 11,
   "metadata": {},
   "outputs": [
    {
     "name": "stdout",
     "output_type": "stream",
     "text": [
      "['s', 'p', 'a', 'm']\n",
      "a\n",
      "['p', 'a', 'm']\n"
     ]
    }
   ],
   "source": [
    "x = MyList('spam')\n",
    "print(x)\n",
    "print(x[2])\n",
    "print(x[1:])"
   ]
  },
  {
   "cell_type": "code",
   "execution_count": 14,
   "metadata": {},
   "outputs": [
    {
     "name": "stdout",
     "output_type": "stream",
     "text": [
      "a\n",
      "['p', 'a', 'm']\n",
      "['s', 'p', 'a', 'm', 'eggs']\n",
      "['s', 'p', 'a', 'm', 'toast']\n",
      "['f', 'o', 'o', 'bar']\n",
      "(3, 2)\n"
     ]
    }
   ],
   "source": [
    "class MyListSub(MyList):\n",
    "    calls = 0\n",
    "    \n",
    "    def __init__(self,start):\n",
    "        self.adds = 0\n",
    "        MyList.__init__(self,start)\n",
    "        \n",
    "    def __add__(self,other):\n",
    "        MyListSub.calls += 1\n",
    "        self.adds += 1\n",
    "        return MyList.__add__(self,other)\n",
    "    \n",
    "    def stats(self):\n",
    "        return self.calls, self.adds\n",
    "    \n",
    "x = MyListSub('spam')\n",
    "y = MyListSub('foo')\n",
    "print(x[2])\n",
    "print(x[1:])\n",
    "print(x + ['eggs'])\n",
    "print(x + ['toast'])\n",
    "print(y + ['bar'])\n",
    "print(x.stats())"
   ]
  },
  {
   "cell_type": "code",
   "execution_count": null,
   "metadata": {},
   "outputs": [],
   "source": []
  }
 ],
 "metadata": {
  "kernelspec": {
   "display_name": "Python 3",
   "language": "python",
   "name": "python3"
  },
  "language_info": {
   "codemirror_mode": {
    "name": "ipython",
    "version": 3
   },
   "file_extension": ".py",
   "mimetype": "text/x-python",
   "name": "python",
   "nbconvert_exporter": "python",
   "pygments_lexer": "ipython3",
   "version": "3.8.2"
  }
 },
 "nbformat": 4,
 "nbformat_minor": 4
}
